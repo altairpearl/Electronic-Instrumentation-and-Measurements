{
 "metadata": {
  "name": ""
 },
 "nbformat": 3,
 "nbformat_minor": 0,
 "worksheets": [
  {
   "cells": [
    {
     "cell_type": "markdown",
     "metadata": {},
     "source": [
      "##CHAPTER 2 : Measurement Errors\n"
     ]
    },
    {
     "cell_type": "markdown",
     "metadata": {},
     "source": [
      "####Example 2-1, Page : 16"
     ]
    },
    {
     "cell_type": "code",
     "collapsed": false,
     "input": [
      "\n",
      "#Calculations :\n",
      "Absolute_error = 1.26 - 1.2 # Absolute error in kilo Ohms(k\u03a9)\n",
      "Tolerance = (Absolute_error/1.2)*100 # Tolerance in percentage\n",
      "R = 1.2 + abs(Absolute_error) # Largest possible Resistance at 25 degree Celsius(\u00b0C)\n",
      "Change_of_R = ((R*1000*500)/1000000) # Resistance change per degree Celsius(\u00b0C)\n",
      "del_T = 75 - 25 # Temperature increase in degree Celsius(\u00b0C)\n",
      "del_R = Change_of_R * 50 # Total Resistance increase in Ohms(\u03a9)\n",
      "maximum_R = R + (del_R/1000) # Maximum Resistance at 75 degree Celsius in kilo Ohms(k\u03a9)\n",
      "\n",
      "#Results :\n",
      "print \"Absolute error = \u00b1%.2f k\u03a9 \\n\"%Absolute_error\n",
      "print \"Tolerance = \u00b1%d%% \\n\"%Tolerance\n",
      "print \"Largest possible resistance at 25\u00b0C = %.2f k\u03a9 \\n\"%R\n",
      "print \"Resistance change per  \u00b0Celsius = %.2f \u03a9/\u00b0C \\n\"%Change_of_R\n",
      "print \"Temperature increase = %d\u00b0C \\n\"%del_T\n",
      "print \"Total resistance = %.1f \u03a9 \\n\"%del_R\n",
      "print \"Maximum resistance at 75\u00b0C = %.4f k\u03a9 \"%maximum_R"
     ],
     "language": "python",
     "metadata": {},
     "outputs": [
      {
       "output_type": "stream",
       "stream": "stdout",
       "text": [
        "Absolute error = \u00b10.06 k\u03a9 \n",
        "\n",
        "Tolerance = \u00b15% \n",
        "\n",
        "Largest possible resistance at 25\u00b0C = 1.26 k\u03a9 \n",
        "\n",
        "Resistance change per  \u00b0Celsius = 0.63 \u03a9/\u00b0C \n",
        "\n",
        "Temperature increase = 50\u00b0C \n",
        "\n",
        "Total resistance = 31.5 \u03a9 \n",
        "\n",
        "Maximum resistance at 75\u00b0C = 1.2915 k\u03a9 \n"
       ]
      }
     ],
     "prompt_number": 1
    },
    {
     "cell_type": "markdown",
     "metadata": {},
     "source": [
      "####Example 2-4, Page : 23"
     ]
    },
    {
     "cell_type": "code",
     "collapsed": false,
     "input": [
      "#Variable declarations :\n",
      "R = 820 #Resistance in Ohms(\u03a9)\n",
      "I = 10*(10**-3) #Current in Amperes(A)\n",
      "err_R = 10 # Error in Resistance in percentage\n",
      "\n",
      "#Calculations :\n",
      "P = (I**2)*R #Power = (Current)^2 x Resistance\n",
      "err_I = ((2*25)/10) #Error in measuring current from the given analog ammeter with range 25mA and \u00b12% accuracy in percentage\n",
      "err_sqrI = 2*(err_I) #Error introduced by squaring current measured from the above ammeter\n",
      "err_P = err_sqrI + err_R #Error in the calculated power\n",
      "\n",
      "#Results :\n",
      "print \"P = %d mW\"%(P*1000) #Calculated Power in milli Watts\n",
      "print \"error in R = \u00b1%d%%\"%err_R\n",
      "print \"error in I = \u00b1%d%%\"%err_I\n",
      "print \"%% error in square I = \u00b1%d%%\"%err_sqrI\n",
      "print \"%% error in P = \u00b1%d%%\"%err_P\n"
     ],
     "language": "python",
     "metadata": {},
     "outputs": [
      {
       "output_type": "stream",
       "stream": "stdout",
       "text": [
        "P = 82 mW\n",
        "error in R = \u00b110%\n",
        "error in I = \u00b15%\n",
        "% error in square I = \u00b110%\n",
        "% error in P = \u00b120%\n"
       ]
      }
     ],
     "prompt_number": 2
    },
    {
     "cell_type": "markdown",
     "metadata": {},
     "source": [
      "####Example 2-5, Page : 25"
     ]
    },
    {
     "cell_type": "code",
     "collapsed": false,
     "input": [
      "#Variable declarations :\n",
      "V1 = 1.001 # Voltage 1 in Volts\n",
      "V2 = 1.002 # Voltage 2 in Volts\n",
      "V3 = 0.999 # Voltage 3 in Volts\n",
      "V4 = 0.998 # Voltage 4 in Volts\n",
      "V5 = 1.000 # Voltage 5 in Volts\n",
      "n = 5 # Total number of  measured voltages\n",
      "#Calculations :\n",
      "Vav = (V1 + V2 + V3 + V4 + V5)/5 #Arithmetic mean\n",
      "d1 = V1 - Vav #Deviation\n",
      "d2 = V2 - Vav #Deviation\n",
      "d3 = V3 - Vav #Deviation\n",
      "d4 = V4 - Vav #Deviation\n",
      "d5 = V5 - Vav #Deviation\n",
      "D = (abs(d1) + abs(d2) + abs(d3) + abs(d4) + abs(d5))/n #Average deviation\n",
      "\n",
      "#Results :\n",
      "print \"Vav = %.3f V\"%Vav \n",
      "print \"d1 = %.3f V\"%d1\n",
      "print \"d2 = %.3f V\"%d2\n",
      "print \"d3 = %.3f V\"%d3\n",
      "print \"d4 = %.3f V\"%d4\n",
      "print \"d5 = %.f V\"%d5\n",
      "print \"D = %.4f V\"%D"
     ],
     "language": "python",
     "metadata": {},
     "outputs": [
      {
       "output_type": "stream",
       "stream": "stdout",
       "text": [
        "Vav = 1.000 V\n",
        "d1 = 0.001 V\n",
        "d2 = 0.002 V\n",
        "d3 = -0.001 V\n",
        "d4 = -0.002 V\n",
        "d5 = 0 V\n",
        "D = 0.0012 V\n"
       ]
      }
     ],
     "prompt_number": 3
    },
    {
     "cell_type": "markdown",
     "metadata": {},
     "source": [
      "####Example 2-6, Page : 26"
     ]
    },
    {
     "cell_type": "code",
     "collapsed": false,
     "input": [
      "import math \n",
      "\n",
      "#Calculations :\n",
      "sigma = math.sqrt(((d1**2) + (d2**2) + (d3**2) + (d4**2) + (d5**2))/n) #Standard deviation in Volts\n",
      "probable_error = 0.6745*round(sigma,4) #Probable error in Volts\n",
      "\n",
      "#Results : \n",
      "print \"\u03c3 = %.4f V\"%sigma\n",
      "print \"probable error = %.2f mV\"%(probable_error*1000) #probable error in milli Volts"
     ],
     "language": "python",
     "metadata": {},
     "outputs": [
      {
       "output_type": "stream",
       "stream": "stdout",
       "text": [
        "\u03c3 = 0.0014 V\n",
        "probable error = 0.94 mV\n"
       ]
      }
     ],
     "prompt_number": 4
    }
   ],
   "metadata": {}
  }
 ]
}