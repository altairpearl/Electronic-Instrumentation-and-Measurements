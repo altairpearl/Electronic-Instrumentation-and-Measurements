{
 "metadata": {
  "name": ""
 },
 "nbformat": 3,
 "nbformat_minor": 0,
 "worksheets": [
  {
   "cells": [
    {
     "cell_type": "markdown",
     "metadata": {},
     "source": [
      "##CHAPTER 3"
     ]
    },
    {
     "cell_type": "markdown",
     "metadata": {},
     "source": [
      "####Example 3-1, Page : 37"
     ]
    },
    {
     "cell_type": "code",
     "collapsed": false,
     "input": [
      "#Variable declaration\n",
      "\n",
      "B = 0.2 #Magnetic flux density in Tesla(T)\n",
      "D = 0.01 #The coil dimension(Diameter) in metre(m)\n",
      "l = 0.015 #The coil dimension(length) in metre(m)\n",
      "I = 1*(10**-3)#The current in the coil in Ampere(A)\n",
      "N = 100 #Number of turns in the coil\n",
      "\n",
      "#Calculations\n",
      "\n",
      "Td = B*l*I*N*D\n",
      "\n",
      "#Results\n",
      "\n",
      "print \"Torque on the coil : \",Td,\"N.m\"#Torque on the coil for a current of 1 mA in Newton.metre(N.m)\n"
     ],
     "language": "python",
     "metadata": {},
     "outputs": [
      {
       "output_type": "stream",
       "stream": "stdout",
       "text": [
        "Torque on the coil :  3e-06 N.m\n"
       ]
      }
     ],
     "prompt_number": 11
    },
    {
     "cell_type": "markdown",
     "metadata": {},
     "source": [
      "####Example 3-2, Page : 39"
     ]
    },
    {
     "cell_type": "code",
     "collapsed": false,
     "input": [
      "#Variable declaration\n",
      "\n",
      "current_sens = 1 #Current sensitivty in micro Ampere per milli metre(\u03bcA/mm)\n",
      "cric_damp_res = 1000 #Critical damping resistance in Ohms(\u03a9)\n",
      "\n",
      "#Calculations \n",
      "\n",
      "volt_sens = cric_damp_res * current_sens * (10**-3) #Voltage sensitivity in milli Volt per milli metre(mV/mm)\n",
      "\n",
      "megOhm_sens = (1/current_sens) #MegOhm sensitivity in Mega Ohm(M\u03a9)\n",
      "\n",
      "#Results\n",
      "\n",
      "print \"Voltage sensitivity = %.f\"%volt_sens,\"mV/mm\" #Voltage sensitivity in milli Volt per milli metre(mV/mm)\n",
      "print \"megohm sensitivity = \",megOhm_sens,\"M\u03a9\" #megohm sensitivity in Mega Ohm(M\u03a9)\n",
      "\n"
     ],
     "language": "python",
     "metadata": {},
     "outputs": [
      {
       "output_type": "stream",
       "stream": "stdout",
       "text": [
        "Voltage sensitivity = 1 mV/mm\n",
        "megohm sensitivity =  1 M\u03a9\n"
       ]
      }
     ],
     "prompt_number": 29
    },
    {
     "cell_type": "markdown",
     "metadata": {},
     "source": [
      "####Example 3-3, Page : 41"
     ]
    },
    {
     "cell_type": "code",
     "collapsed": false,
     "input": [
      "#Variable declaration\n",
      "\n",
      "Im = 0.1 #FSD current in milli Ampere(mA)\n",
      "Rm = 99 #Coil resistance in Ohm(\u03a9)\n",
      "Rs = 1 #Shunt resistance in Ohm(\u03a9)\n",
      "\n",
      "#Calculations \n",
      "\n",
      "#(a) At FSD\n",
      "Vm = Im * Rm #meter Voltage at FSD in milli Volt(mV)\n",
      "Is = (Vm / Rs) #Shunt current at FSD in milli Ampere(mA)\n",
      "total_curr_a_I = Is + Im #Total current at FSD in milli Ampere(mA)\n",
      "\n",
      "#(b) At 0.5 FSD\n",
      "Im = 0.5 * 0.1 #Current at 0.5 FSD in milli Ampere(mA)\n",
      "Vm = Im * Rm #meter voltage at 0.5 FSD in milli Volt(mV)\n",
      "Is = (Vm / Rs ) #Shunt current at 0.5 FSD in milli Ampere(mA)\n",
      "total_curr_b_I = Is + Im #Total current at 0.5 FSD in milli Ampere(mA)\n",
      "\n",
      "#(c) At 0.25 FSD\n",
      "Im = 0.25 * 0.1 #Current at 0.25 FSD in milli Ampere(mA)\n",
      "Vm = Im * Rm #meter voltage at 0.25 FSD in milli Volt(mV)\n",
      "Is = (Vm / Rs ) #Shunt current at 0.25 FSD in milli Ampere(mA)\n",
      "total_curr_c_I = Is + Im #Total current at 0.25 FSD in milli Ampere(mA)\n",
      "\n",
      "#Results\n",
      "\n",
      "print \"Total current at FSD = %.f\"%total_curr_a_I,\"mA\" #Total current passing through the ammeter at FSD in milli Ampere(mA)\n",
      "print \"Total current at 0.5 FSD = %.f\"%total_curr_b_I,\"mA\" #Total current passing through the ammeter at 0.5 FSD in milli Ampere(mA)\n",
      "print \"Total current at 0.25 FSD = %.1f\"%total_curr_c_I,\"mA\" #Total current passing through the ammeter at 0.25 FSD in milli Ampere(mA)\n"
     ],
     "language": "python",
     "metadata": {},
     "outputs": [
      {
       "output_type": "stream",
       "stream": "stdout",
       "text": [
        "Total current at FSD = 10 mA\n",
        "Total current at 0.5 FSD = 5 mA\n",
        "Total current at 0.25 FSD = 2.5 mA\n"
       ]
      }
     ],
     "prompt_number": 42
    },
    {
     "cell_type": "markdown",
     "metadata": {},
     "source": [
      "####Example 3-4, Page : 43"
     ]
    },
    {
     "cell_type": "code",
     "collapsed": false,
     "input": [
      "#Variable declaration\n",
      "\n",
      "Im = 100 *(10**-6) #FSD current of the given PMMC instrument in Ampere(A)\n",
      "Rm = 1*(10**3) #Coil resistance in Ohm(\u03a9)\n",
      "\n",
      "#Calculations\n",
      "\n",
      "#(a) For FSD = 100 mA\n",
      "I = 100*(10**-3) #current for the given FSD in Ampere(A)\n",
      "Vm = Im * Rm #meter Voltage in Volt(V)\n",
      "Is = I - Im #Shunt current in Ampere(A)\n",
      "a_Rs = (Vm / Is) #Shunt resistance in Ohm(\u03a9)\n",
      "\n",
      "#(b) For FSD = 1 A\n",
      "I = 1 #current for the given FSD in Ampere(A)\n",
      "Vm = Im * Rm #meter Voltage in Volt(V)\n",
      "Is = I - Im #Shunt current in Ampere(A)\n",
      "b_Rs = (Vm / Is) #Shunt resistance in Ohm(\u03a9)\n",
      "\n",
      "#Results\n",
      "print \"Shunt resistance for FSD = 100 mA : %.3f\"%a_Rs,\"\u03a9\" #The required Shunt resistance value \n",
      "                                                          #to convert the instrument into an ammmeter with FSD = 100 mA\n",
      "print \"Shunt resistance for FSD = 1 A : %.5f\"%b_Rs,\"\u03a9\" #The required Shunt resistance value \n",
      "                                                       #to convert the instrument into an ammmeter with FSD = 1 A\n"
     ],
     "language": "python",
     "metadata": {},
     "outputs": [
      {
       "output_type": "stream",
       "stream": "stdout",
       "text": [
        "Shunt resistance for FSD = 100 mA : 1.001 \u03a9\n",
        "Shunt resistance for FSD = 1 A : 0.10001 \u03a9\n"
       ]
      }
     ],
     "prompt_number": 2
    },
    {
     "cell_type": "markdown",
     "metadata": {},
     "source": [
      "####Example 3-5, Page : 45"
     ]
    },
    {
     "cell_type": "code",
     "collapsed": false,
     "input": [
      "#Variable declaration\n",
      "R1 = 0.05 #Resistance in Ohm(\u03a9)\n",
      "R2 = 0.45 #Resistance in Ohm(\u03a9)\n",
      "R3 = 4.5  #Resistance in Ohm(\u03a9)\n",
      "Rm = 1000 #Resistance in Ohm(\u03a9)\n",
      "FSD = Im = 50*(10**-6) #Full Scale Deflection value in Amperes(A)\n",
      "\n",
      "#Calculations\n",
      "\n",
      "#Switch at contact B :\n",
      "Vs = Im*Rm\n",
      "Is = Vs/(R1+R2+R3)\n",
      "I = Im + Is\n",
      "Ammeter_Range_at_B = round(I*10**3) #In milliAmpere(mA)\n",
      "\n",
      "#Switch at contact C :\n",
      "Vs = Im*(Rm+R3)\n",
      "Is = Vs/(R1+R2)\n",
      "I = Im + Is\n",
      "Ammeter_Range_at_C = round(I*10**3) #In milliAmpere(mA)\n",
      "\n",
      "#Switch at contact D :\n",
      "Vs = Im*(Rm+R2+R3)\n",
      "Is = Vs/(R1)\n",
      "I = Im + Is\n",
      "Ammeter_Range_at_D = round(I) #In Ampere(A)\n",
      "\n",
      "#Results\n",
      "print \"Ammeter Range at B = %.f \"%Ammeter_Range_at_B,\"mA\"\n",
      "print \"Ammeter Range at C = %.f\"%Ammeter_Range_at_C,\"mA\"\n",
      "print \"Ammeter Range at D = %.f\"%Ammeter_Range_at_D,\"A\""
     ],
     "language": "python",
     "metadata": {},
     "outputs": [
      {
       "output_type": "stream",
       "stream": "stdout",
       "text": [
        "Ammeter Range at B = 10  mA\n",
        "Ammeter Range at C = 100 mA\n",
        "Ammeter Range at D = 1 A\n"
       ]
      }
     ],
     "prompt_number": 18
    },
    {
     "cell_type": "markdown",
     "metadata": {},
     "source": [
      "####Example 3-6, Page : 47"
     ]
    },
    {
     "cell_type": "code",
     "collapsed": false,
     "input": [
      "#Calculations\n",
      "\n",
      "#For V = 50V FSD\n",
      "Im = 100*(10**-6)\n"
     ],
     "language": "python",
     "metadata": {},
     "outputs": []
    }
   ],
   "metadata": {}
  }
 ]
}