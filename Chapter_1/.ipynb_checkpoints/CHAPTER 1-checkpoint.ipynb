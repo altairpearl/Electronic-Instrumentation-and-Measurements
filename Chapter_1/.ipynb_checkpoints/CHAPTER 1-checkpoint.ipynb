{
 "metadata": {
  "name": ""
 },
 "nbformat": 3,
 "nbformat_minor": 0,
 "worksheets": [
  {
   "cells": [
    {
     "cell_type": "markdown",
     "metadata": {},
     "source": [
      "#CHAPTER 1 : UNITS, DIMENSIONS, AND STANDARDS"
     ]
    },
    {
     "cell_type": "markdown",
     "metadata": {},
     "source": [
      "####*Example 1-1, Page :8 *"
     ]
    },
    {
     "cell_type": "code",
     "collapsed": false,
     "input": [
      "#Variable declaration :\n",
      "Phi = 500 * (10**-8) #Total Magnetic Flux in Weber ; 1 Maxwell = (1/10^8)Wb\n",
      "A = (1 * 1 )*((2.54*(10**-2))**2)   # Area in square metres ;1 inch = 2.54 cm = 0.0254 m \n",
      "\n",
      "#Calculations :\n",
      "B = Phi/A    #Flux Density [= (Total Flux / Area)] in Tesla\n",
      "\n",
      "#Result :\n",
      "print \"Total Flux = %d \u03bcWb\\n\"%(Phi*(10**6)) \n",
      "print \"Area = %.2f^2 x 10^-4 square metres\\n\" %((A**0.5)*(10**2))\n",
      "print \"Flux Density = %.2f mT\"%(B*1000) "
     ],
     "language": "python",
     "metadata": {},
     "outputs": [
      {
       "output_type": "stream",
       "stream": "stdout",
       "text": [
        "Total Flux = 5 \u03bcWb\n",
        "\n",
        "Area = 2.54^2 x 10^-4 square metres\n",
        "\n",
        "Flux Density = 7.75 mT\n"
       ]
      }
     ],
     "prompt_number": 5
    },
    {
     "cell_type": "markdown",
     "metadata": {},
     "source": [
      "####*Example 1-2, Page : 8*"
     ]
    },
    {
     "cell_type": "code",
     "collapsed": false,
     "input": [
      "#Variable declaration :\n",
      "F = 98.6 #Normal Human Body Temperature in Fahrenheit\n",
      "\n",
      "#Calculations :\n",
      "Celsius_temperature = (F - 32)/1.8\n",
      "Kelvin_temperature = ((F - 32)/1.8) + 273.15\n",
      "\n",
      "#Result :\n",
      "print \"Celsius temperature = %.f \u00b0C\\n\"%Celsius_temperature\n",
      "print \"Kelvin temperature = %.2f K\\n\"%Kelvin_temperature\n",
      "\n",
      "#NOTE : In the example 1-2 given in the book , the problem states that the normal body temperature is 98.6 degree Fahrenheit but\n",
      "#       while solving 98.7 degree Farenheit was used. Although the answer remains same for both the values!!"
     ],
     "language": "python",
     "metadata": {},
     "outputs": [
      {
       "output_type": "stream",
       "stream": "stdout",
       "text": [
        "Celsius temperature = 37 \u00b0C\n",
        "\n",
        "Kelvin temperature = 310.15 K\n",
        "\n"
       ]
      }
     ],
     "prompt_number": 4
    },
    {
     "cell_type": "code",
     "collapsed": false,
     "input": [],
     "language": "python",
     "metadata": {},
     "outputs": []
    }
   ],
   "metadata": {}
  }
 ]
}